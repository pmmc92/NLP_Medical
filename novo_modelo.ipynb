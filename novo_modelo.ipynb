{
 "cells": [
  {
   "cell_type": "code",
   "execution_count": 18,
   "metadata": {},
   "outputs": [],
   "source": [
    "import spacy"
   ]
  },
  {
   "cell_type": "code",
   "execution_count": 19,
   "metadata": {},
   "outputs": [],
   "source": [
    "nlp=spacy.load(\"output/model-last/\")"
   ]
  },
  {
   "cell_type": "code",
   "execution_count": 35,
   "metadata": {},
   "outputs": [],
   "source": [
    "texto=\"Vem o próprio. Sem queixas com a medicação (Faz Osimertib 80mg 1cp/dia). disguesia. Vai fazer TAC na próxima semana\""
   ]
  },
  {
   "cell_type": "code",
   "execution_count": 36,
   "metadata": {},
   "outputs": [],
   "source": [
    "doc=nlp(texto)"
   ]
  },
  {
   "cell_type": "code",
   "execution_count": 37,
   "metadata": {},
   "outputs": [
    {
     "data": {
      "text/html": [
       "<span class=\"tex2jax_ignore\"><div class=\"entities\" style=\"line-height: 2.5; direction: ltr\">Vem o próprio. \n",
       "<mark class=\"entity\" style=\"background: #5F9EA0; padding: 0.45em 0.6em; margin: 0 0.25em; line-height: 1; border-radius: 0.35em;\">\n",
       "    Sem queixas\n",
       "    <span style=\"font-size: 0.8em; font-weight: bold; line-height: 1; border-radius: 0.35em; vertical-align: middle; margin-left: 0.5rem\">Estado</span>\n",
       "</mark>\n",
       " com a medicação (Faz \n",
       "<mark class=\"entity\" style=\"background: #00FF00; padding: 0.45em 0.6em; margin: 0 0.25em; line-height: 1; border-radius: 0.35em;\">\n",
       "    Osimertib\n",
       "    <span style=\"font-size: 0.8em; font-weight: bold; line-height: 1; border-radius: 0.35em; vertical-align: middle; margin-left: 0.5rem\">Terapêutica</span>\n",
       "</mark>\n",
       " \n",
       "<mark class=\"entity\" style=\"background: #696969; padding: 0.45em 0.6em; margin: 0 0.25em; line-height: 1; border-radius: 0.35em;\">\n",
       "    80mg\n",
       "    <span style=\"font-size: 0.8em; font-weight: bold; line-height: 1; border-radius: 0.35em; vertical-align: middle; margin-left: 0.5rem\">Dose</span>\n",
       "</mark>\n",
       " \n",
       "<mark class=\"entity\" style=\"background: #E6E6FA; padding: 0.45em 0.6em; margin: 0 0.25em; line-height: 1; border-radius: 0.35em;\">\n",
       "    1cp/dia\n",
       "    <span style=\"font-size: 0.8em; font-weight: bold; line-height: 1; border-radius: 0.35em; vertical-align: middle; margin-left: 0.5rem\">Posologia</span>\n",
       "</mark>\n",
       "). disguesia. Vai fazer \n",
       "<mark class=\"entity\" style=\"background: #FF00FF; padding: 0.45em 0.6em; margin: 0 0.25em; line-height: 1; border-radius: 0.35em;\">\n",
       "    TAC\n",
       "    <span style=\"font-size: 0.8em; font-weight: bold; line-height: 1; border-radius: 0.35em; vertical-align: middle; margin-left: 0.5rem\">MCDT</span>\n",
       "</mark>\n",
       " na próxima semana</div></span>"
      ],
      "text/plain": [
       "<IPython.core.display.HTML object>"
      ]
     },
     "metadata": {},
     "output_type": "display_data"
    }
   ],
   "source": [
    "from spacy import displacy\n",
    "colors = {\"Estado\" : \"#5F9EA0\", \"Terapêutica\" : \"#00FF00\",\"RAM\" : \"#FFA07A\",\"MCDT\" : \"#FF00FF\", \"Dose\" : \"#696969\", \"Posologia\" : \"#E6E6FA\"}\n",
    "options = {\"colors\" : colors}\n",
    "displacy.render(doc,style=\"ent\",jupyter=\"True\", options = options)"
   ]
  },
  {
   "cell_type": "code",
   "execution_count": 38,
   "metadata": {},
   "outputs": [
    {
     "name": "stdout",
     "output_type": "stream",
     "text": [
      "Overwriting app.py\n"
     ]
    }
   ],
   "source": [
    "%%writefile app.py\n",
    "import streamlit as st\n",
    "import spacy\n",
    "from spacy import displacy\n",
    "\n",
    "def text_function(texto):\n",
    "    nlp = spacy.load(\"output/model-last/\")\n",
    "    doc = nlp(texto)\n",
    "    colors = {\"Estado\" : \"#5F9EA0\", \"Terapêutica\" : \"#00FF00\",\"RAM\" : \"#FFA07A\",\"MCDT\" : \"#FF00FF\", \"Dose\" : \"#696969\", \"Posologia\" : \"#E6E6FA\"}\n",
    "    options = {\"colors\" : colors}\n",
    "    html = displacy.render(doc,style = \"ent\", jupyter = False,options = options)\n",
    "    st.markdown(html, unsafe_allow_html = True)\n",
    "\n",
    "def main():\n",
    "    st.set_page_config(layout = 'wide', initial_sidebar_state = 'expanded')\n",
    "    st.title('NLP em consulta farmacêutica')\n",
    "    texto = st.text_input(\"Insira aqui a nota\")\n",
    "\n",
    "    if st.button(\"Analisar\"):\n",
    "        return text_function(texto)\n",
    "if __name__ == \"__main__\":\n",
    "    main()"
   ]
  },
  {
   "cell_type": "code",
   "execution_count": null,
   "metadata": {},
   "outputs": [],
   "source": []
  }
 ],
 "metadata": {
  "interpreter": {
   "hash": "bace8122ff4ccbe6a228104a2168d1a257642481a5054592343ab55a86e5cd46"
  },
  "kernelspec": {
   "display_name": "Python 3.8.12 64-bit ('base': conda)",
   "language": "python",
   "name": "python3"
  },
  "language_info": {
   "codemirror_mode": {
    "name": "ipython",
    "version": 3
   },
   "file_extension": ".py",
   "mimetype": "text/x-python",
   "name": "python",
   "nbconvert_exporter": "python",
   "pygments_lexer": "ipython3",
   "version": "3.8.12"
  },
  "orig_nbformat": 4
 },
 "nbformat": 4,
 "nbformat_minor": 2
}
